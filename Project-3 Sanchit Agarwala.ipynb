{
 "cells": [
  {
   "cell_type": "code",
   "execution_count": null,
   "metadata": {},
   "outputs": [],
   "source": [
    "import pandas as pd\n",
    "import numpy as np\n",
    "import requests\n",
    "from bs4 import BeautifulSoup\n",
    "import os\n",
    "from sklearn.cluster import KMeans\n",
    "import folium \n",
    "from geopy.geocoders import Nominatim \n",
    "import matplotlib.cm as cm\n",
    "import matplotlib.colors as colors\n",
    "print('Libraries imported.')"
   ]
  },
  {
   "cell_type": "code",
   "execution_count": null,
   "metadata": {},
   "outputs": [],
   "source": [
    "can_postal_url = \"https://en.wikipedia.org/wiki/List_of_postal_codes_of_Canada:_M\"\n",
    "source = requests.get(can_postal_url).text\n",
    "\n",
    "can_html  = BeautifulSoup(source, 'xml')\n",
    "can_html = can_html.find('table')\n",
    "\n",
    "'''\n",
    "The structure of the return result will be like that:\n",
    "\n",
    "<?xml version=\"1.0\" encoding=\"utf-8\"?>\n",
    "<!DOCTYPE html>\n",
    "<html class=\"client-nojs\" dir=\"ltr\" lang=\"en\">\n",
    "<head>\n",
    "<meta charset=\"UTF-8\"/>\n",
    "<title>List of postal codes of Canada: M - Wikipedia</title>\n",
    ".....\n",
    "<table class=\"wikitable sortable\">\n",
    ".....\n",
    "table content\n",
    ".....\n",
    "</table>\n",
    "'''"
   ]
  },
  {
   "cell_type": "code",
   "execution_count": null,
   "metadata": {},
   "outputs": [],
   "source": [
    "# Three columns of the table: PostalCode, Borough, and Neighborhood\n",
    "col_names = ['Postalcode', 'Borough', 'Neighborhood']\n",
    "can_df = pd.DataFrame(columns = col_names)\n",
    "\n",
    "# Search all the postcode, borough, neighborhood \n",
    "for tr_cell in can_html.find_all('tr'):\n",
    "    row_data=[]\n",
    "    for td_cell in tr_cell.find_all('td'):\n",
    "        row_data.append(td_cell.text.strip())\n",
    "    if len(row_data)==3:\n",
    "        can_df.loc[len(can_df)] = row_data\n",
    "\n",
    "can_df.head()"
   ]
  },
  {
   "cell_type": "code",
   "execution_count": null,
   "metadata": {},
   "outputs": [],
   "source": [
    "# Clone can_df to df\n",
    "df = can_df\n",
    "\n",
    "#  Clean NA cells and cells whose `Borough` is `Not assigned`\n",
    "df = df.dropna()\n",
    "df = df[df['Borough'] != 'Not assigned']\n",
    "\n",
    "# If a cell has a borough but a Not assigned neighborhood, \n",
    "# then the neighborhood will be the same as the borough.\n",
    "not_assigned_ids = df['Neighborhood'] == 'Not assigned'\n",
    "df['Neighborhood'][not_assigned_ids] = df['Borough'][not_assigned_ids]\n",
    "\n",
    "# Replace '/' by ','\n",
    "df['Neighborhood'] = df['Neighborhood'].str.replace(' /', ',')\n",
    "df.head()"
   ]
  },
  {
   "cell_type": "code",
   "execution_count": null,
   "metadata": {},
   "outputs": [],
   "source": [
    "# Merge cells having the same postal code\n",
    "temp = df.groupby('Postalcode')['Neighborhood'].apply(lambda x: \"%s\" % ', '.join(x))\n",
    "temp = temp.reset_index(drop=False)\n",
    "temp.rename(columns={'Neighborhood':'Neighborhood_joined'}, inplace=True)\n",
    "\n",
    "temp.head()"
   ]
  },
  {
   "cell_type": "code",
   "execution_count": null,
   "metadata": {},
   "outputs": [],
   "source": [
    "df_merge = pd.merge(df, temp, on='Postalcode')\n",
    "df_merge.drop(['Neighborhood'], axis=1, inplace=True)\n",
    "df_merge.drop_duplicates(inplace=True)\n",
    "df_merge.rename(columns={'Neighborhood_joined':'Neighborhood'}, inplace=True)\n",
    "df_merge.head()"
   ]
  },
  {
   "cell_type": "code",
   "execution_count": null,
   "metadata": {},
   "outputs": [],
   "source": [
    "df_merge.shape"
   ]
  },
  {
   "cell_type": "code",
   "execution_count": null,
   "metadata": {},
   "outputs": [],
   "source": [
    "import geocoder\n",
    "import folium"
   ]
  },
  {
   "cell_type": "code",
   "execution_count": null,
   "metadata": {},
   "outputs": [],
   "source": [
    "geo_df = pd.read_csv('http://cocl.us/Geospatial_data')\n",
    "geo_df.rename(columns={'Postal Code':'Postalcode'}, inplace=True)\n",
    "geo_merge = pd.merge(geo_df, df_merge, on='Postalcode')\n",
    "geo_merge.head(100)\n",
    "\n",
    "toronto_df = geo_merge[geo_merge['Borough'].str.contains(\"Toronto\")]\n",
    "toronto_df.reset_index(drop=True, inplace=True)\n",
    "\n",
    "print(toronto_df.head())"
   ]
  },
  {
   "cell_type": "code",
   "execution_count": null,
   "metadata": {},
   "outputs": [],
   "source": [
    "# Create Toronto map\n",
    "map_toronto = folium.Map(location=[43.65, -79.38], zoom_start=10)\n",
    "\n",
    "# Add markers\n",
    "for lat, lng, borough, neighborhood in zip(toronto_df['Latitude'], toronto_df['Longitude'], toronto_df['Borough'], toronto_df['Neighborhood']):\n",
    "    label = '{}, {}'.format(neighborhood, borough)\n",
    "    label = folium.Popup(label, parse_html=True)\n",
    "    folium.CircleMarker(\n",
    "        [lat, lng],\n",
    "        radius=7,\n",
    "        popup=label,\n",
    "        color='green',\n",
    "        fill=True,\n",
    "        fill_color='#3186cc',\n",
    "        fill_opacity=0.7,\n",
    "        parse_html=False).add_to(map_toronto)  \n",
    "    \n",
    "map_toronto"
   ]
  }
 ],
 "metadata": {
  "kernelspec": {
   "display_name": "Python",
   "language": "python",
   "name": "conda-env-python-py"
  },
  "language_info": {
   "codemirror_mode": {
    "name": "ipython",
    "version": 3
   },
   "file_extension": ".py",
   "mimetype": "text/x-python",
   "name": "python",
   "nbconvert_exporter": "python",
   "pygments_lexer": "ipython3",
   "version": "3.6.12"
  }
 },
 "nbformat": 4,
 "nbformat_minor": 4
}
